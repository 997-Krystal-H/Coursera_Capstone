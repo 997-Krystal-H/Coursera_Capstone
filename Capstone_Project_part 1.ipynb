{
    "cells": [
        {
            "cell_type": "markdown",
            "metadata": {},
            "source": "# Capstone Project"
        },
        {
            "cell_type": "markdown",
            "metadata": {},
            "source": "## Part 1: Preparation"
        },
        {
            "cell_type": "markdown",
            "metadata": {},
            "source": "### 1.1 A description of the problem and a discussion of the background"
        },
        {
            "cell_type": "markdown",
            "metadata": {},
            "source": "According to a report prepared by Canadian Bureau for International Education (CBIE, 2018), as a result of varied and evolving push and pull factors, international students are choosing Canada as their study destination in unprecedented numbers. In 2017, for example, there were 494,525 international students in Canada at all levels of study, which represents a 17% increase over the previous year (CBIE, 2018). \n\nAs the top university of the country, the University of Toronto has attracted many international students. It is estimated that 26% of the student population at the University of Toronto is comprised of international students (Maclean\u2019s, 2016). For international students, the prospect of flying half-way round the world to study in Canada can be daunting, and adjusting to new life here is indeed a challenge. However, incoming international students don't have to be scary or stressful. After all, what makes studing abroad so special is that the process is always exciting and rewarding. New sights, new food, new languages and a different climate will stimulate your senses! This project will mainly explore city of Toronto to help international students navigate their life as well as take the stress out of studying here. In the context of an evolving global pandamic, this project also aims to provide some travel advice while students are staying in Toronto. \n\n"
        },
        {
            "cell_type": "markdown",
            "metadata": {},
            "source": "### 1.2 A description of the data and how it will be used to solve the problem"
        },
        {
            "cell_type": "markdown",
            "metadata": {},
            "source": "I will be using the following data sets throughout this project:\n\nData set 1: **Places of Interest and Toronto Attractions** (source: Toronto Open Data). This data set provides a listing of attractions in Toronto, as determined by Visitor Services. Information has been gathered through research and day-to-day operations of the Visitor Services Department. In this capstone project, this data set, in combination with Foursquare location data, will be employed to categorize attractions in Toronto by place and type. This will provide international students with a basic understanding of tourist attractions in Toronto so that they can plan to visit them when the pandemic is over.\n\nData set 2: **Covid-19 cases in Toronto** (source: Toronto Public Health). This data set contains demographic, geographic, and severity information for all confirmed and probable cases reported to and managed by Toronto Public Health since the first case was reported in January 2020. This includes cases that are sporadic (occurring in the community) and outbreak-associated. The data are extracted from the provincial communicable disease reporting system (iPHIS) and Toronto's custom COVID-19 case management system (CORES) and combined for reporting. Each line summarizes information for an individual case. I plan to use this data set and Foursquare location data to detect which neighbourhood in Toronto has the most confirmed cases so that I can advise students to avoid visiting there. "
        },
        {
            "cell_type": "code",
            "execution_count": null,
            "metadata": {},
            "outputs": [],
            "source": ""
        },
        {
            "cell_type": "markdown",
            "metadata": {},
            "source": "## Part 2: Conducting Analysis"
        }
    ],
    "metadata": {
        "kernelspec": {
            "display_name": "Python 3.6",
            "language": "python",
            "name": "python3"
        },
        "language_info": {
            "codemirror_mode": {
                "name": "ipython",
                "version": 3
            },
            "file_extension": ".py",
            "mimetype": "text/x-python",
            "name": "python",
            "nbconvert_exporter": "python",
            "pygments_lexer": "ipython3",
            "version": "3.6.9"
        }
    },
    "nbformat": 4,
    "nbformat_minor": 1
}