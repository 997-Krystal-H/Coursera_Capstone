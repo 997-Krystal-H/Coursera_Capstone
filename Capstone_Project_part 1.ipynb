{
    "cells": [
        {
            "cell_type": "markdown",
            "metadata": {},
            "source": "# Capstone Project"
        },
        {
            "cell_type": "markdown",
            "metadata": {},
            "source": "## Part 1: Preparation"
        },
        {
            "cell_type": "markdown",
            "metadata": {},
            "source": "### 1.1 A description of the problem and a discussion of the background"
        },
        {
            "cell_type": "markdown",
            "metadata": {},
            "source": "According to a report prepared by Canadian Bureau for International Education (CBIE, 2018), as a result of varied and evolving push and pull factors, international students are choosing Canada as their study destination in unprecedented numbers. In 2017, for example, there were 494,525 international students in Canada at all levels of study, which represents a 17% increase over the previous year (CBIE, 2018). \n\nAs the top university of the country, the University of Toronto has attracted many international students. It is estimated that 26% of the student population at the University of Toronto is comprised of international students (Maclean\u2019s, 2016). For international students, the prospect of flying half-way round the world to study in Canada can be daunting, and adjusting to new life here is indeed a challenge. However, incoming international students don't have to be scary or stressful. After all, what makes studing abroad so special is that the process is always exciting and rewarding. New sights, new food, new languages and a different climate will stimulate your senses! This project will mainly explore city of Toronto to help international students navigate their life as well as take the stress out of studying here. In the context of an evolving global pandamic, this project also aims to provide some travel advice while students are staying in Toronto. \n\n"
        },
        {
            "cell_type": "markdown",
            "metadata": {},
            "source": "### 1.2 A description of the data and how it will be used to solve the problem"
        },
        {
            "cell_type": "markdown",
            "metadata": {},
            "source": "I will be using the following data sets throughout this project:\n\nData set 1: **Places of Interest and Toronto Attractions** (source: Toronto Open Data). This data set provides a listing of attractions in Toronto, as determined by Visitor Services. Information has been gathered through research and day-to-day operations of the Visitor Services Department. In this capstone project, this data set, in combination with Foursquare location data, will be employed to categorize attractions in Toronto by place and type. This will provide international students with a basic understanding of tourist attractions in Toronto so that they can plan to visit them when the pandemic is over.\n\nData set 2: **Covid-19 cases in Toronto** (source: Toronto Public Health). This data set contains demographic, geographic, and severity information for all confirmed and probable cases reported to and managed by Toronto Public Health since the first case was reported in January 2020. This includes cases that are sporadic (occurring in the community) and outbreak-associated. The data are extracted from the provincial communicable disease reporting system (iPHIS) and Toronto's custom COVID-19 case management system (CORES) and combined for reporting. Each line summarizes information for an individual case. I plan to use this data set and Foursquare location data to detect which neighbourhood in Toronto has the most confirmed cases so that I can advise students to avoid visiting there. "
        },
        {
            "cell_type": "code",
            "execution_count": 7,
            "metadata": {},
            "outputs": [
                {
                    "data": {
                        "text/html": "<div>\n<style scoped>\n    .dataframe tbody tr th:only-of-type {\n        vertical-align: middle;\n    }\n\n    .dataframe tbody tr th {\n        vertical-align: top;\n    }\n\n    .dataframe thead th {\n        text-align: right;\n    }\n</style>\n<table border=\"1\" class=\"dataframe\">\n  <thead>\n    <tr style=\"text-align: right;\">\n      <th></th>\n      <th>_id</th>\n      <th>ID</th>\n      <th>ADDRESS_INFO</th>\n      <th>NAME</th>\n      <th>CATEGORY</th>\n      <th>PHONE</th>\n      <th>EMAIL</th>\n      <th>WEBSITE</th>\n      <th>GEOID</th>\n      <th>RECEIVED_DATA_DATE</th>\n      <th>...</th>\n      <th>Y</th>\n      <th>LONGITUDE</th>\n      <th>LATITUDE</th>\n      <th>OBJECTID</th>\n      <th>MI_PRINX</th>\n      <th>ATTRACTION_LEVEL</th>\n      <th>ATTRACTION_DESC</th>\n      <th>IMAGE_NAME</th>\n      <th>MAP_ACCESS</th>\n      <th>geometry</th>\n    </tr>\n  </thead>\n  <tbody>\n    <tr>\n      <th>0</th>\n      <td>1</td>\n      <td>16</td>\n      <td>NaN</td>\n      <td>BMO Field</td>\n      <td>Sports / Entertainment Venue</td>\n      <td>416-815-5982</td>\n      <td>NaN</td>\n      <td>www.bmofield.com</td>\n      <td>20229243.0</td>\n      <td>NaN</td>\n      <td>...</td>\n      <td>NaN</td>\n      <td>NaN</td>\n      <td>NaN</td>\n      <td>16</td>\n      <td>4163950.0</td>\n      <td>2</td>\n      <td>BMO Field is home to the Toronto FC (Major Lea...</td>\n      <td>BMOField.jpg</td>\n      <td>Y</td>\n      <td>{u'type': u'Point', u'coordinates': (-79.41861...</td>\n    </tr>\n    <tr>\n      <th>1</th>\n      <td>2</td>\n      <td>1</td>\n      <td>NaN</td>\n      <td>Aga Khan Museum</td>\n      <td>Museum</td>\n      <td>416-646-4677</td>\n      <td>NaN</td>\n      <td>www.agakhanmuseum.org</td>\n      <td>10142948.0</td>\n      <td>NaN</td>\n      <td>...</td>\n      <td>NaN</td>\n      <td>NaN</td>\n      <td>NaN</td>\n      <td>1</td>\n      <td>4094277.0</td>\n      <td>1</td>\n      <td>Dedicated to sharing the artistic, intellectua...</td>\n      <td>AgaKhan.jpg</td>\n      <td>Y</td>\n      <td>{u'type': u'Point', u'coordinates': (-79.33233...</td>\n    </tr>\n    <tr>\n      <th>2</th>\n      <td>3</td>\n      <td>2</td>\n      <td>NaN</td>\n      <td>Air Canada Centre</td>\n      <td>Sports / Entertainment Venue</td>\n      <td>416-815-5500</td>\n      <td>NaN</td>\n      <td>www.theaircanadacentre.com/</td>\n      <td>7929257.0</td>\n      <td>NaN</td>\n      <td>...</td>\n      <td>NaN</td>\n      <td>NaN</td>\n      <td>NaN</td>\n      <td>2</td>\n      <td>3176821.0</td>\n      <td>1</td>\n      <td>The Air Canada Centre is a multi-purpose indoo...</td>\n      <td>AirCanadaCentre.jpg</td>\n      <td>Y</td>\n      <td>{u'type': u'Point', u'coordinates': (-79.37900...</td>\n    </tr>\n    <tr>\n      <th>3</th>\n      <td>4</td>\n      <td>3</td>\n      <td>NaN</td>\n      <td>Al Green Theatre (at the Miles Nadal Jewish Co...</td>\n      <td>Performing Arts</td>\n      <td>416-924-6211</td>\n      <td>NaN</td>\n      <td>www.algreentheatre.ca/</td>\n      <td>8418224.0</td>\n      <td>NaN</td>\n      <td>...</td>\n      <td>NaN</td>\n      <td>NaN</td>\n      <td>NaN</td>\n      <td>3</td>\n      <td>1951177.0</td>\n      <td>4</td>\n      <td>The Al Green Theatre is used  for social and c...</td>\n      <td>NaN</td>\n      <td>N</td>\n      <td>{u'type': u'Point', u'coordinates': (-79.40406...</td>\n    </tr>\n    <tr>\n      <th>4</th>\n      <td>5</td>\n      <td>4</td>\n      <td>NaN</td>\n      <td>Alexander Muir Memorial Gardens</td>\n      <td>Nature/ Park</td>\n      <td>416-338-4386</td>\n      <td>NaN</td>\n      <td>http://www1.toronto.ca/parks/prd/facilities/co...</td>\n      <td>10154587.0</td>\n      <td>NaN</td>\n      <td>...</td>\n      <td>NaN</td>\n      <td>NaN</td>\n      <td>NaN</td>\n      <td>4</td>\n      <td>4217141.0</td>\n      <td>4</td>\n      <td>Named after the famous composer Alexander Muir...</td>\n      <td>Imageplaceholder.jpg</td>\n      <td>Y</td>\n      <td>{u'type': u'Point', u'coordinates': (-79.40116...</td>\n    </tr>\n  </tbody>\n</table>\n<p>5 rows \u00d7 36 columns</p>\n</div>",
                        "text/plain": "   _id  ID ADDRESS_INFO                                               NAME  \\\n0    1  16          NaN                                          BMO Field   \n1    2   1          NaN                                    Aga Khan Museum   \n2    3   2          NaN                                  Air Canada Centre   \n3    4   3          NaN  Al Green Theatre (at the Miles Nadal Jewish Co...   \n4    5   4          NaN                    Alexander Muir Memorial Gardens   \n\n                       CATEGORY         PHONE  EMAIL  \\\n0  Sports / Entertainment Venue  416-815-5982    NaN   \n1                        Museum  416-646-4677    NaN   \n2  Sports / Entertainment Venue  416-815-5500    NaN   \n3               Performing Arts  416-924-6211    NaN   \n4                  Nature/ Park  416-338-4386    NaN   \n\n                                             WEBSITE       GEOID  \\\n0                                   www.bmofield.com  20229243.0   \n1                              www.agakhanmuseum.org  10142948.0   \n2                        www.theaircanadacentre.com/   7929257.0   \n3                             www.algreentheatre.ca/   8418224.0   \n4  http://www1.toronto.ca/parks/prd/facilities/co...  10154587.0   \n\n   RECEIVED_DATA_DATE  ...   Y  LONGITUDE LATITUDE OBJECTID   MI_PRINX  \\\n0                 NaN  ... NaN        NaN      NaN       16  4163950.0   \n1                 NaN  ... NaN        NaN      NaN        1  4094277.0   \n2                 NaN  ... NaN        NaN      NaN        2  3176821.0   \n3                 NaN  ... NaN        NaN      NaN        3  1951177.0   \n4                 NaN  ... NaN        NaN      NaN        4  4217141.0   \n\n  ATTRACTION_LEVEL                                    ATTRACTION_DESC  \\\n0                2  BMO Field is home to the Toronto FC (Major Lea...   \n1                1  Dedicated to sharing the artistic, intellectua...   \n2                1  The Air Canada Centre is a multi-purpose indoo...   \n3                4  The Al Green Theatre is used  for social and c...   \n4                4  Named after the famous composer Alexander Muir...   \n\n             IMAGE_NAME  MAP_ACCESS  \\\n0          BMOField.jpg           Y   \n1           AgaKhan.jpg           Y   \n2   AirCanadaCentre.jpg           Y   \n3                   NaN           N   \n4  Imageplaceholder.jpg           Y   \n\n                                            geometry  \n0  {u'type': u'Point', u'coordinates': (-79.41861...  \n1  {u'type': u'Point', u'coordinates': (-79.33233...  \n2  {u'type': u'Point', u'coordinates': (-79.37900...  \n3  {u'type': u'Point', u'coordinates': (-79.40406...  \n4  {u'type': u'Point', u'coordinates': (-79.40116...  \n\n[5 rows x 36 columns]"
                    },
                    "execution_count": 7,
                    "metadata": {},
                    "output_type": "execute_result"
                }
            ],
            "source": "# The code was removed by Watson Studio for sharing."
        },
        {
            "cell_type": "code",
            "execution_count": 8,
            "metadata": {},
            "outputs": [
                {
                    "data": {
                        "text/html": "<div>\n<style scoped>\n    .dataframe tbody tr th:only-of-type {\n        vertical-align: middle;\n    }\n\n    .dataframe tbody tr th {\n        vertical-align: top;\n    }\n\n    .dataframe thead th {\n        text-align: right;\n    }\n</style>\n<table border=\"1\" class=\"dataframe\">\n  <thead>\n    <tr style=\"text-align: right;\">\n      <th></th>\n      <th>_id</th>\n      <th>Outbreak Associated</th>\n      <th>Age Group</th>\n      <th>Neighbourhood Name</th>\n      <th>FSA</th>\n      <th>Source of Infection</th>\n      <th>Classification</th>\n      <th>Episode Date</th>\n      <th>Reported Date</th>\n      <th>Client Gender</th>\n      <th>Outcome</th>\n      <th>Currently Hospitalized</th>\n      <th>Currently in ICU</th>\n      <th>Currently Intubated</th>\n      <th>Ever Hospitalized</th>\n      <th>Ever in ICU</th>\n      <th>Ever Intubated</th>\n    </tr>\n  </thead>\n  <tbody>\n    <tr>\n      <th>0</th>\n      <td>44294</td>\n      <td>Sporadic</td>\n      <td>50-59</td>\n      <td>Malvern</td>\n      <td>M1B</td>\n      <td>Institutional</td>\n      <td>CONFIRMED</td>\n      <td>2020-03-25</td>\n      <td>2020-03-27</td>\n      <td>MALE</td>\n      <td>RESOLVED</td>\n      <td>No</td>\n      <td>No</td>\n      <td>No</td>\n      <td>No</td>\n      <td>No</td>\n      <td>No</td>\n    </tr>\n    <tr>\n      <th>1</th>\n      <td>44295</td>\n      <td>Sporadic</td>\n      <td>20-29</td>\n      <td>Malvern</td>\n      <td>M1B</td>\n      <td>Community</td>\n      <td>CONFIRMED</td>\n      <td>2020-03-20</td>\n      <td>2020-03-28</td>\n      <td>MALE</td>\n      <td>RESOLVED</td>\n      <td>No</td>\n      <td>No</td>\n      <td>No</td>\n      <td>Yes</td>\n      <td>No</td>\n      <td>No</td>\n    </tr>\n    <tr>\n      <th>2</th>\n      <td>44296</td>\n      <td>Sporadic</td>\n      <td>60-69</td>\n      <td>Malvern</td>\n      <td>M1B</td>\n      <td>Travel</td>\n      <td>CONFIRMED</td>\n      <td>2020-03-04</td>\n      <td>2020-03-08</td>\n      <td>FEMALE</td>\n      <td>RESOLVED</td>\n      <td>No</td>\n      <td>No</td>\n      <td>No</td>\n      <td>Yes</td>\n      <td>Yes</td>\n      <td>Yes</td>\n    </tr>\n    <tr>\n      <th>3</th>\n      <td>44297</td>\n      <td>Outbreak Associated</td>\n      <td>50-59</td>\n      <td>Rouge</td>\n      <td>M1B</td>\n      <td>N/A - Outbreak associated</td>\n      <td>CONFIRMED</td>\n      <td>2020-05-02</td>\n      <td>2020-05-04</td>\n      <td>FEMALE</td>\n      <td>RESOLVED</td>\n      <td>No</td>\n      <td>No</td>\n      <td>No</td>\n      <td>No</td>\n      <td>No</td>\n      <td>No</td>\n    </tr>\n    <tr>\n      <th>4</th>\n      <td>44298</td>\n      <td>Sporadic</td>\n      <td>30-39</td>\n      <td>Rouge</td>\n      <td>M1B</td>\n      <td>Close contact</td>\n      <td>CONFIRMED</td>\n      <td>2020-05-31</td>\n      <td>2020-06-06</td>\n      <td>FEMALE</td>\n      <td>RESOLVED</td>\n      <td>No</td>\n      <td>No</td>\n      <td>No</td>\n      <td>No</td>\n      <td>No</td>\n      <td>No</td>\n    </tr>\n  </tbody>\n</table>\n</div>",
                        "text/plain": "     _id  Outbreak Associated Age Group Neighbourhood Name  FSA  \\\n0  44294             Sporadic     50-59            Malvern  M1B   \n1  44295             Sporadic     20-29            Malvern  M1B   \n2  44296             Sporadic     60-69            Malvern  M1B   \n3  44297  Outbreak Associated     50-59              Rouge  M1B   \n4  44298             Sporadic     30-39              Rouge  M1B   \n\n         Source of Infection Classification Episode Date Reported Date  \\\n0              Institutional      CONFIRMED   2020-03-25    2020-03-27   \n1                  Community      CONFIRMED   2020-03-20    2020-03-28   \n2                     Travel      CONFIRMED   2020-03-04    2020-03-08   \n3  N/A - Outbreak associated      CONFIRMED   2020-05-02    2020-05-04   \n4              Close contact      CONFIRMED   2020-05-31    2020-06-06   \n\n  Client Gender   Outcome Currently Hospitalized Currently in ICU  \\\n0          MALE  RESOLVED                     No               No   \n1          MALE  RESOLVED                     No               No   \n2        FEMALE  RESOLVED                     No               No   \n3        FEMALE  RESOLVED                     No               No   \n4        FEMALE  RESOLVED                     No               No   \n\n  Currently Intubated Ever Hospitalized Ever in ICU Ever Intubated  \n0                  No                No          No             No  \n1                  No               Yes          No             No  \n2                  No               Yes         Yes            Yes  \n3                  No                No          No             No  \n4                  No                No          No             No  "
                    },
                    "execution_count": 8,
                    "metadata": {},
                    "output_type": "execute_result"
                }
            ],
            "source": "\nbody = client_1e2d2e0a0fce43b29b7417a66230e7a1.get_object(Bucket='myproject-donotdelete-pr-fxsupzenu9ode6',Key='COVID19 cases.csv')['Body']\n# add missing __iter__ method, so pandas accepts body as file-like object\nif not hasattr(body, \"__iter__\"): body.__iter__ = types.MethodType( __iter__, body )\n\ndf_data_2 = pd.read_csv(body)\ndf_data_2.head()\n"
        },
        {
            "cell_type": "markdown",
            "metadata": {},
            "source": "## Part 2: Conducting Analysis"
        }
    ],
    "metadata": {
        "kernelspec": {
            "display_name": "Python 3.6",
            "language": "python",
            "name": "python3"
        },
        "language_info": {
            "codemirror_mode": {
                "name": "ipython",
                "version": 3
            },
            "file_extension": ".py",
            "mimetype": "text/x-python",
            "name": "python",
            "nbconvert_exporter": "python",
            "pygments_lexer": "ipython3",
            "version": "3.6.9"
        }
    },
    "nbformat": 4,
    "nbformat_minor": 1
}